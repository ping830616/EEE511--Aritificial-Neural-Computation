{
 "cells": [
  {
   "cell_type": "code",
   "execution_count": 8,
   "metadata": {},
   "outputs": [],
   "source": [
    "# ------------------------------------ import packages ----------------------------------------- #\n",
    "\n",
    "from numpy import unique                           \n",
    "from numpy import where                            \n",
    "from sklearn.datasets import make_classification   \n",
    "from sklearn.cluster import KMeans        \n",
    "from sklearn.cluster import DBSCAN\n",
    "from matplotlib import pyplot                     \n",
    "\n",
    "\n",
    "# ------------------------------------- define dataset ----------------------------------------- #\n",
    "# n_samples            = the number of samples\n",
    "# n_features           = the total number of featurers\n",
    "# n_informative        = the number of informative features \n",
    "# n_redundant          = the number of redundant features\n",
    "# n_clusters_per_class = the number of clusters per class\n",
    "# random_state         = determine random number generation for dataset creation \n",
    "\n",
    "\n",
    "# ---------------------------- a random n-class classification --------------------------------- #\n",
    "X, _ = make_classification(n_samples=150, n_features=2, n_informative=2, n_redundant=0, n_clusters_per_class=1, random_state=4)\n",
    "\n"
   ]
  },
  {
   "cell_type": "code",
   "execution_count": 11,
   "metadata": {},
   "outputs": [
    {
     "name": "stdout",
     "output_type": "stream",
     "text": [
      "KMeans(algorithm='auto', copy_x=True, init='k-means++', max_iter=300,\n",
      "       n_clusters=2, n_init=10, n_jobs=None, precompute_distances='auto',\n",
      "       random_state=None, tol=0.0001, verbose=0)\n"
     ]
    },
    {
     "data": {
      "image/png": "[encoded data removed]",
      "text/plain": [
       "<Figure size 432x288 with 1 Axes>"
      ]
     },
     "metadata": {
      "needs_background": "light"
     },
     "output_type": "display_data"
    }
   ],
   "source": [
    "# ================================== k-means clustering ======================================== #\n",
    "\n",
    "# define the model\n",
    "model = KMeans(n_clusters=2)   # the number of clusters to form\n",
    "print(model)\n",
    "\n",
    "\n",
    "yhat = model.fit_predict(X)        # fit model and predict clusters\n",
    "clusters = unique(yhat)            # retrieve unique clusters\n",
    "\n",
    "\n",
    "# create scatter plot for samples from each cluster\n",
    "for cluster in clusters:    \n",
    "    row_ix = where(yhat == cluster)              # get row indexes for samples with this cluster\n",
    "    pyplot.scatter(X[row_ix, 0], X[row_ix, 1])   # create scatter of these samples\n",
    "pyplot.show()                                    # show the plot\n",
    "\n"
   ]
  },
  {
   "cell_type": "code",
   "execution_count": 14,
   "metadata": {},
   "outputs": [
    {
     "name": "stdout",
     "output_type": "stream",
     "text": [
      "DBSCAN(algorithm='auto', eps=0.3, leaf_size=30, metric='euclidean',\n",
      "       metric_params=None, min_samples=5, n_jobs=None, p=None)\n"
     ]
    },
    {
     "data": {
      "image/png": "[encoded data removed]",
      "text/plain": [
       "<Figure size 432x288 with 1 Axes>"
      ]
     },
     "metadata": {
      "needs_background": "light"
     },
     "output_type": "display_data"
    }
   ],
   "source": [
    "# ================================== DBSCAN clustering ======================================== #\n",
    "\n",
    "# define the model\n",
    "model = DBSCAN(eps=0.3, min_samples=5)\n",
    "print(model)\n",
    " \n",
    "# fit model and predict clusters\n",
    "yhat = model.fit_predict(X)\n",
    "\n",
    "\n",
    "# retrieve unique clusters\n",
    "clusters = unique(yhat)\n",
    "\n",
    "\n",
    "# create scatter plot for samples from each cluster\n",
    "for cluster in clusters:\n",
    "    row_ix = where(yhat == cluster)              # get row indexes for samples with this cluster\n",
    "    pyplot.scatter(X[row_ix, 0], X[row_ix, 1])   # create scatter of these samples\n",
    "pyplot.show()                                    # show the plot\n",
    "\n"
   ]
  },
  {
   "cell_type": "code",
   "execution_count": null,
   "metadata": {},
   "outputs": [],
   "source": []
  }
 ],
 "metadata": {
  "kernelspec": {
   "display_name": "Python 3",
   "language": "python",
   "name": "python3"
  },
  "language_info": {
   "codemirror_mode": {
    "name": "ipython",
    "version": 3
   },
   "file_extension": ".py",
   "mimetype": "text/x-python",
   "name": "python",
   "nbconvert_exporter": "python",
   "pygments_lexer": "ipython3",
   "version": "3.7.6"
  }
 },
 "nbformat": 4,
 "nbformat_minor": 4
}
