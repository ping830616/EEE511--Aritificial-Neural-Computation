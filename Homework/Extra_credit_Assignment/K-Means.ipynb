{
 "cells": [
  {
   "cell_type": "code",
   "execution_count": 33,
   "metadata": {},
   "outputs": [
    {
     "data": {
      "image/png": "[encoded data removed]",
      "text/plain": [
       "<Figure size 432x288 with 1 Axes>"
      ]
     },
     "metadata": {
      "needs_background": "light"
     },
     "output_type": "display_data"
    }
   ],
   "source": [
    "# ================================== k-means clustering ======================================== #\n",
    "\n",
    "from numpy import unique           # find the unique elements of an array\n",
    "from numpy import where            # where the given condition is met\n",
    "from sklearn.datasets import make_classification   # generate a random n-class classification problem\n",
    "from sklearn.cluster import KMeans # the K-Means algorithm\n",
    "from matplotlib import pyplot      # a collection of functions in the Matplotlib\n",
    "\n",
    "\n",
    "# ------------------------------------- define dataset ----------------------------------------- #\n",
    "# n_samples            = the number of samples\n",
    "# n_features           = the total number of featurers\n",
    "# n_informative        = the number of informative features \n",
    "# n_redundant          = the number of redundant features that are generated as random linear combinations of the informative features\n",
    "# n_clusters_per_class = the number of clusters per class\n",
    "# random_state         = determine random number generation for dataset creation \n",
    "\n",
    "\n",
    "# ---------------------------- a random n-class classification --------------------------------- #\n",
    "X, _ = make_classification(n_samples=100, n_features=2, n_informative=2, n_redundant=0, n_clusters_per_class=1, random_state=4)\n",
    "\n",
    "\n",
    "# define the model\n",
    "model = KMeans(n_clusters=2)   # the number of clusters to form\n",
    "\n",
    "\n",
    "# fit the model\n",
    "model.fit(X)\n",
    "\n",
    "\n",
    "# assign a cluster to each example\n",
    "yhat = model.predict(X)\n",
    "\n",
    "\n",
    "# retrieve unique clusters\n",
    "clusters = unique(yhat)\n",
    "\n",
    "\n",
    "# create scatter plot for samples from each cluster\n",
    "for cluster in clusters:    \n",
    "    row_ix = where(yhat == cluster)              # get row indexes for samples with this cluster\n",
    "    pyplot.scatter(X[row_ix, 0], X[row_ix, 1])   # create scatter of these samples\n",
    "pyplot.show()                                    # show the plot\n",
    "\n",
    "\n",
    "\n"
   ]
  },
  {
   "cell_type": "code",
   "execution_count": 31,
   "metadata": {},
   "outputs": [
    {
     "data": {
      "image/png": "[encoded data removed]",
      "text/plain": [
       "<Figure size 432x288 with 1 Axes>"
      ]
     },
     "metadata": {
      "needs_background": "light"
     },
     "output_type": "display_data"
    }
   ],
   "source": [
    "# ================================== dbscan clustering ======================================== #\n",
    "\n",
    "\n",
    "# define dataset\n",
    "X, _ = make_classification(n_samples=100, n_features=2, n_informative=2, n_redundant=0, n_clusters_per_class=1, random_state=4)\n",
    "# define the model\n",
    "model = DBSCAN(eps=0.30, min_samples=9)\n",
    "# fit model and predict clusters\n",
    "yhat = model.fit_predict(X)\n",
    "# retrieve unique clusters\n",
    "clusters = unique(yhat)\n",
    "# create scatter plot for samples from each cluster\n",
    "for cluster in clusters:\n",
    "\t# get row indexes for samples with this cluster\n",
    "\trow_ix = where(yhat == cluster)\n",
    "\t# create scatter of these samples\n",
    "\tpyplot.scatter(X[row_ix, 0], X[row_ix, 1])\n",
    "# show the plot\n",
    "pyplot.show()\n"
   ]
  },
  {
   "cell_type": "code",
   "execution_count": null,
   "metadata": {},
   "outputs": [],
   "source": []
  }
 ],
 "metadata": {
  "kernelspec": {
   "display_name": "Python 3",
   "language": "python",
   "name": "python3"
  },
  "language_info": {
   "codemirror_mode": {
    "name": "ipython",
    "version": 3
   },
   "file_extension": ".py",
   "mimetype": "text/x-python",
   "name": "python",
   "nbconvert_exporter": "python",
   "pygments_lexer": "ipython3",
   "version": "3.7.6"
  }
 },
 "nbformat": 4,
 "nbformat_minor": 4
}
